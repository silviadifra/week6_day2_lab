{
 "cells": [
  {
   "cell_type": "code",
   "execution_count": 1,
   "id": "7a6805b6",
   "metadata": {},
   "outputs": [],
   "source": [
    "import pandas as pd\n",
    "import numpy as np\n",
    "import spotipy\n",
    "import json\n",
    "from spotipy.oauth2 import SpotifyClientCredentials"
   ]
  },
  {
   "cell_type": "code",
   "execution_count": 2,
   "id": "6f6269ab",
   "metadata": {},
   "outputs": [],
   "source": [
    "from config import *"
   ]
  },
  {
   "cell_type": "code",
   "execution_count": 3,
   "id": "21713d7f",
   "metadata": {},
   "outputs": [],
   "source": [
    "sp = spotipy.Spotify(auth_manager=SpotifyClientCredentials(client_id= client_id,\n",
    "                                                           client_secret= client_secret)) #client_id and client-secret as written the config file."
   ]
  },
  {
   "cell_type": "code",
   "execution_count": 4,
   "id": "cd2771f2",
   "metadata": {},
   "outputs": [],
   "source": [
    "from time import sleep\n",
    "from random import randint\n"
   ]
  },
  {
   "cell_type": "code",
   "execution_count": 5,
   "id": "896e56b0",
   "metadata": {},
   "outputs": [
    {
     "data": {
      "text/html": [
       "<div>\n",
       "<style scoped>\n",
       "    .dataframe tbody tr th:only-of-type {\n",
       "        vertical-align: middle;\n",
       "    }\n",
       "\n",
       "    .dataframe tbody tr th {\n",
       "        vertical-align: top;\n",
       "    }\n",
       "\n",
       "    .dataframe thead th {\n",
       "        text-align: right;\n",
       "    }\n",
       "</style>\n",
       "<table border=\"1\" class=\"dataframe\">\n",
       "  <thead>\n",
       "    <tr style=\"text-align: right;\">\n",
       "      <th></th>\n",
       "      <th>Unnamed: 0</th>\n",
       "      <th>artist_name</th>\n",
       "      <th>song_title</th>\n",
       "    </tr>\n",
       "  </thead>\n",
       "  <tbody>\n",
       "    <tr>\n",
       "      <th>0</th>\n",
       "      <td>0</td>\n",
       "      <td>Harry Styles</td>\n",
       "      <td>As It Was</td>\n",
       "    </tr>\n",
       "    <tr>\n",
       "      <th>1</th>\n",
       "      <td>1</td>\n",
       "      <td>Jack Harlow</td>\n",
       "      <td>First Class</td>\n",
       "    </tr>\n",
       "    <tr>\n",
       "      <th>2</th>\n",
       "      <td>2</td>\n",
       "      <td>Future Featuring Drake &amp; Tems</td>\n",
       "      <td>Wait For U</td>\n",
       "    </tr>\n",
       "    <tr>\n",
       "      <th>3</th>\n",
       "      <td>3</td>\n",
       "      <td>Lizzo</td>\n",
       "      <td>About Damn Time</td>\n",
       "    </tr>\n",
       "    <tr>\n",
       "      <th>4</th>\n",
       "      <td>4</td>\n",
       "      <td>Glass Animals</td>\n",
       "      <td>Heat Waves</td>\n",
       "    </tr>\n",
       "  </tbody>\n",
       "</table>\n",
       "</div>"
      ],
      "text/plain": [
       "   Unnamed: 0                    artist_name       song_title\n",
       "0           0                   Harry Styles        As It Was\n",
       "1           1                    Jack Harlow      First Class\n",
       "2           2  Future Featuring Drake & Tems       Wait For U\n",
       "3           3                          Lizzo  About Damn Time\n",
       "4           4                  Glass Animals       Heat Waves"
      ]
     },
     "execution_count": 5,
     "metadata": {},
     "output_type": "execute_result"
    }
   ],
   "source": [
    "hot100songs=pd.read_csv('top100_billboardsongs.csv')\n",
    "hot100songs.head()"
   ]
  },
  {
   "cell_type": "code",
   "execution_count": 6,
   "id": "21028842",
   "metadata": {},
   "outputs": [],
   "source": [
    "hot100songs=hot100songs.drop(['Unnamed: 0'], axis=1)"
   ]
  },
  {
   "cell_type": "code",
   "execution_count": 7,
   "id": "91f9b96d",
   "metadata": {},
   "outputs": [
    {
     "data": {
      "text/html": [
       "<div>\n",
       "<style scoped>\n",
       "    .dataframe tbody tr th:only-of-type {\n",
       "        vertical-align: middle;\n",
       "    }\n",
       "\n",
       "    .dataframe tbody tr th {\n",
       "        vertical-align: top;\n",
       "    }\n",
       "\n",
       "    .dataframe thead th {\n",
       "        text-align: right;\n",
       "    }\n",
       "</style>\n",
       "<table border=\"1\" class=\"dataframe\">\n",
       "  <thead>\n",
       "    <tr style=\"text-align: right;\">\n",
       "      <th></th>\n",
       "      <th>artist_name</th>\n",
       "      <th>song_title</th>\n",
       "    </tr>\n",
       "  </thead>\n",
       "  <tbody>\n",
       "    <tr>\n",
       "      <th>0</th>\n",
       "      <td>Harry Styles</td>\n",
       "      <td>As It Was</td>\n",
       "    </tr>\n",
       "    <tr>\n",
       "      <th>1</th>\n",
       "      <td>Jack Harlow</td>\n",
       "      <td>First Class</td>\n",
       "    </tr>\n",
       "    <tr>\n",
       "      <th>2</th>\n",
       "      <td>Future Featuring Drake &amp; Tems</td>\n",
       "      <td>Wait For U</td>\n",
       "    </tr>\n",
       "    <tr>\n",
       "      <th>3</th>\n",
       "      <td>Lizzo</td>\n",
       "      <td>About Damn Time</td>\n",
       "    </tr>\n",
       "    <tr>\n",
       "      <th>4</th>\n",
       "      <td>Glass Animals</td>\n",
       "      <td>Heat Waves</td>\n",
       "    </tr>\n",
       "  </tbody>\n",
       "</table>\n",
       "</div>"
      ],
      "text/plain": [
       "                     artist_name       song_title\n",
       "0                   Harry Styles        As It Was\n",
       "1                    Jack Harlow      First Class\n",
       "2  Future Featuring Drake & Tems       Wait For U\n",
       "3                          Lizzo  About Damn Time\n",
       "4                  Glass Animals       Heat Waves"
      ]
     },
     "execution_count": 7,
     "metadata": {},
     "output_type": "execute_result"
    }
   ],
   "source": [
    "hot100songs.head()"
   ]
  },
  {
   "cell_type": "code",
   "execution_count": 8,
   "id": "4c430af7",
   "metadata": {},
   "outputs": [],
   "source": [
    "artist_list=list(hot100songs['artist_name'])"
   ]
  },
  {
   "cell_type": "code",
   "execution_count": 9,
   "id": "b47f9368",
   "metadata": {},
   "outputs": [],
   "source": [
    "songtitle_list=list(hot100songs['song_title'])"
   ]
  },
  {
   "cell_type": "code",
   "execution_count": 10,
   "id": "775bdef3",
   "metadata": {
    "scrolled": true
   },
   "outputs": [],
   "source": [
    "#for song in df_hot_songs:\n",
    "    # get uri/id/href\n",
    "    # get audio_features\n",
    "    # add_audio_features to df"
   ]
  },
  {
   "cell_type": "code",
   "execution_count": 11,
   "id": "367de072",
   "metadata": {},
   "outputs": [],
   "source": [
    "song_ids0=[]\n",
    "for song in hot100songs:\n",
    "    results= sp.search(q=\"As It Was\", limit=1)\n",
    "    song_id=results['tracks']['items'][0]['id']\n",
    "    song_ids0.append(song_id)\n"
   ]
  },
  {
   "cell_type": "code",
   "execution_count": 12,
   "id": "de979717",
   "metadata": {},
   "outputs": [
    {
     "data": {
      "text/plain": [
       "['4LRPiXqCikLlN15c3yImP7', '4LRPiXqCikLlN15c3yImP7']"
      ]
     },
     "execution_count": 12,
     "metadata": {},
     "output_type": "execute_result"
    }
   ],
   "source": [
    "list(song_ids0)"
   ]
  },
  {
   "cell_type": "code",
   "execution_count": 23,
   "id": "dac855e8",
   "metadata": {},
   "outputs": [
    {
     "data": {
      "text/html": [
       "<div>\n",
       "<style scoped>\n",
       "    .dataframe tbody tr th:only-of-type {\n",
       "        vertical-align: middle;\n",
       "    }\n",
       "\n",
       "    .dataframe tbody tr th {\n",
       "        vertical-align: top;\n",
       "    }\n",
       "\n",
       "    .dataframe thead th {\n",
       "        text-align: right;\n",
       "    }\n",
       "</style>\n",
       "<table border=\"1\" class=\"dataframe\">\n",
       "  <thead>\n",
       "    <tr style=\"text-align: right;\">\n",
       "      <th></th>\n",
       "      <th>artist_name</th>\n",
       "      <th>song_title</th>\n",
       "    </tr>\n",
       "  </thead>\n",
       "  <tbody>\n",
       "    <tr>\n",
       "      <th>0</th>\n",
       "      <td>Harry Styles</td>\n",
       "      <td>As It Was</td>\n",
       "    </tr>\n",
       "    <tr>\n",
       "      <th>1</th>\n",
       "      <td>Jack Harlow</td>\n",
       "      <td>First Class</td>\n",
       "    </tr>\n",
       "    <tr>\n",
       "      <th>2</th>\n",
       "      <td>Future Featuring Drake &amp; Tems</td>\n",
       "      <td>Wait For U</td>\n",
       "    </tr>\n",
       "    <tr>\n",
       "      <th>3</th>\n",
       "      <td>Lizzo</td>\n",
       "      <td>About Damn Time</td>\n",
       "    </tr>\n",
       "    <tr>\n",
       "      <th>4</th>\n",
       "      <td>Glass Animals</td>\n",
       "      <td>Heat Waves</td>\n",
       "    </tr>\n",
       "  </tbody>\n",
       "</table>\n",
       "</div>"
      ],
      "text/plain": [
       "                     artist_name       song_title\n",
       "0                   Harry Styles        As It Was\n",
       "1                    Jack Harlow      First Class\n",
       "2  Future Featuring Drake & Tems       Wait For U\n",
       "3                          Lizzo  About Damn Time\n",
       "4                  Glass Animals       Heat Waves"
      ]
     },
     "execution_count": 23,
     "metadata": {},
     "output_type": "execute_result"
    }
   ],
   "source": [
    "hot100songs.head()"
   ]
  },
  {
   "cell_type": "code",
   "execution_count": 26,
   "id": "23888ee7",
   "metadata": {},
   "outputs": [
    {
     "data": {
      "text/plain": [
       "[0, 1, 2, 3, 4, 5, 6, 7, 8, 9]"
      ]
     },
     "execution_count": 26,
     "metadata": {},
     "output_type": "execute_result"
    }
   ],
   "source": [
    "list(hot100songs.index)[0:10]"
   ]
  },
  {
   "cell_type": "code",
   "execution_count": 27,
   "id": "8a7165d5",
   "metadata": {},
   "outputs": [
    {
     "data": {
      "text/plain": [
       "[10, 11, 12, 13, 14, 15, 16, 17, 18, 19]"
      ]
     },
     "execution_count": 27,
     "metadata": {},
     "output_type": "execute_result"
    }
   ],
   "source": [
    "list(hot100songs.index)[10:20]"
   ]
  },
  {
   "cell_type": "code",
   "execution_count": 28,
   "id": "69c85fe1",
   "metadata": {},
   "outputs": [
    {
     "data": {
      "text/plain": [
       "[20, 21, 22, 23, 24, 25, 26, 27, 28, 29]"
      ]
     },
     "execution_count": 28,
     "metadata": {},
     "output_type": "execute_result"
    }
   ],
   "source": [
    "list(hot100songs.index)[20:30]"
   ]
  },
  {
   "cell_type": "code",
   "execution_count": 31,
   "id": "dbf1eaf8",
   "metadata": {},
   "outputs": [
    {
     "name": "stdout",
     "output_type": "stream",
     "text": [
      "[0, 1, 2, 3, 4, 5, 6, 7, 8, 9, 10, 11, 12, 13, 14, 15, 16, 17, 18, 19]\n",
      "[20, 21, 22, 23, 24, 25, 26, 27, 28, 29, 30, 31, 32, 33, 34, 35, 36, 37, 38, 39]\n",
      "[40, 41, 42, 43, 44, 45, 46, 47, 48, 49, 50, 51, 52, 53, 54, 55, 56, 57, 58, 59]\n",
      "[60, 61, 62, 63, 64, 65, 66, 67, 68, 69, 70, 71, 72, 73, 74, 75, 76, 77, 78, 79]\n",
      "[80, 81, 82, 83, 84, 85, 86, 87, 88, 89, 90, 91, 92, 93, 94, 95, 96, 97, 98, 99]\n"
     ]
    }
   ],
   "source": [
    "for number in range(0,100,20):\n",
    "    print(list(hot100songs.index)[number:number+20])"
   ]
  },
  {
   "cell_type": "code",
   "execution_count": 47,
   "id": "50108ed2",
   "metadata": {},
   "outputs": [],
   "source": [
    "def get_songs_ids(df,stepsize=20):\n",
    "    song_ids=[]\n",
    "    for number in range(0,len(df),stepsize):\n",
    "        print(\"Getting the chunk: {}%\".format((number/stepsize)))\n",
    "        for index in list(df.index)[number:number+stepsize]: # [0:20],[20:40]\n",
    "            artist = df.iloc[index,0]\n",
    "            title  = df.iloc[index,1]\n",
    "            try:\n",
    "                results = sp.search(q=\"track:\"+title+\" artist:\"+artist,limit=1)\n",
    "                song_id = results['tracks']['items'][0]['id']\n",
    "                song_ids.append(song_id)\n",
    "            except:\n",
    "                print(\"The song {} of the artist {} has not been found on Spotify\".format(title,artist))\n",
    "                song_ids.append(np.nan)\n",
    "        print(\"Sleeping for 10 seconds\")\n",
    "        sleep(10)\n",
    "        print()\n",
    "        print()\n",
    "    return song_ids"
   ]
  },
  {
   "cell_type": "code",
   "execution_count": 48,
   "id": "601b454a",
   "metadata": {},
   "outputs": [
    {
     "name": "stdout",
     "output_type": "stream",
     "text": [
      "Getting the chunk: 0.0%\n",
      "The song Wait For U of the artist Future Featuring Drake & Tems has not been found on Spotify\n",
      "The song Me Porto Bonito of the artist Bad Bunny & Chencho Corleone has not been found on Spotify\n",
      "The song Running Up That Hill (A Deal With God) of the artist Re-ENTRY has not been found on Spotify\n",
      "The song Stay of the artist The Kid LAROI & Justin Bieber has not been found on Spotify\n",
      "The song Enemy of the artist Imagine Dragons X JID has not been found on Spotify\n",
      "Sleeping for 10 seconds\n",
      "\n",
      "\n",
      "Getting the chunk: 100.0%\n",
      "The song Sweetest Pie of the artist Megan Thee Stallion & Dua Lipa has not been found on Spotify\n",
      "The song Party of the artist Bad Bunny & Rauw Alejandro has not been found on Spotify\n",
      "The song Bam Bam of the artist Camila Cabello Featuring Ed Sheeran has not been found on Spotify\n",
      "The song MAMIII of the artist Becky G X Karol G has not been found on Spotify\n",
      "The song Ojitos Lindos of the artist Bad Bunny & Bomba Estereo has not been found on Spotify\n",
      "The song Cooped Up of the artist Post Malone Featuring Roddy Ricch has not been found on Spotify\n",
      "Sleeping for 10 seconds\n",
      "\n",
      "\n",
      "Getting the chunk: 200.0%\n",
      "The song Sleazy Flow of the artist NEW has not been found on Spotify\n",
      "The song 2step of the artist Ed Sheeran Featuring Lil Baby has not been found on Spotify\n",
      "The song See Wat I'm Sayin of the artist NEW has not been found on Spotify\n",
      "Sleeping for 10 seconds\n",
      "\n",
      "\n",
      "Getting the chunk: 300.0%\n",
      "The song Tarot of the artist Bad Bunny & Jhay Cortez has not been found on Spotify\n",
      "The song What Happened To Virgil of the artist Lil Durk Featuring Gunna has not been found on Spotify\n",
      "The song Never Say Never of the artist Cole Swindell / Lainey Wilson has not been found on Spotify\n",
      "The song Freaky Deaky of the artist Tyga X Doja Cat has not been found on Spotify\n",
      "The song Flower Shops of the artist ERNEST Featuring Morgan Wallen has not been found on Spotify\n",
      "The song She Likes It of the artist Russell Dickerson & Jake Scott has not been found on Spotify\n",
      "Sleeping for 10 seconds\n",
      "\n",
      "\n",
      "Getting the chunk: 400.0%\n",
      "The song Ghost Story of the artist Re-ENTRY has not been found on Spotify\n",
      "The song La Corriente of the artist Bad Bunny & Tony Dize has not been found on Spotify\n",
      "The song She Had Me At Heads Carolina of the artist NEW has not been found on Spotify\n",
      "The song F.N.F. (Let's Go) of the artist NEW has not been found on Spotify\n",
      "The song Handsomer of the artist Re-ENTRY has not been found on Spotify\n",
      "The song I'm On One of the artist Future Featuring Drake has not been found on Spotify\n",
      "The song 7500 OBO of the artist NEW has not been found on Spotify\n",
      "The song Until I Found You of the artist NEW has not been found on Spotify\n",
      "Sleeping for 10 seconds\n",
      "\n",
      "\n"
     ]
    }
   ],
   "source": [
    "song_ids = get_songs_ids(hot100songs)"
   ]
  },
  {
   "cell_type": "code",
   "execution_count": 49,
   "id": "f44ce278",
   "metadata": {},
   "outputs": [
    {
     "data": {
      "text/plain": [
       "['4LRPiXqCikLlN15c3yImP7',\n",
       " '1rDQ4oMwGJI7B4tovsBOxc',\n",
       " nan,\n",
       " '1PckUlxKqWQs3RlWXVBLw3',\n",
       " '3USxtqRwSYz57Ewm6wWRMp']"
      ]
     },
     "execution_count": 49,
     "metadata": {},
     "output_type": "execute_result"
    }
   ],
   "source": [
    "song_ids[:5]"
   ]
  },
  {
   "cell_type": "code",
   "execution_count": 50,
   "id": "9ef41b90",
   "metadata": {},
   "outputs": [],
   "source": [
    "#\"track:\"+\"Heat Waves\"+\" artist:\"+\"Glass Animals\""
   ]
  },
  {
   "cell_type": "code",
   "execution_count": 51,
   "id": "38f3baf0",
   "metadata": {},
   "outputs": [],
   "source": [
    "#song_ids_new=[]\n",
    "#for song in hot100songs:\n",
    "#results= sp.search(q=\"track:\"+\"Heat Waves\"+\" artist:\"+\"Glass Animals\", limit=1)\n",
    "                   #(q=\"track:\"+title+\" artist:\"+artist,limit=1)\n",
    "#song_id=results['tracks']['items'][0]['id']\n",
    "#song_ids_new.append(song_id)"
   ]
  },
  {
   "cell_type": "code",
   "execution_count": 52,
   "id": "57c42a6c",
   "metadata": {},
   "outputs": [],
   "source": [
    "#list(song_ids_new)"
   ]
  },
  {
   "cell_type": "code",
   "execution_count": 53,
   "id": "59d42777",
   "metadata": {},
   "outputs": [],
   "source": [
    "#results['tracks']['items'][0]['album'].keys()"
   ]
  },
  {
   "cell_type": "code",
   "execution_count": 54,
   "id": "c2b96638",
   "metadata": {},
   "outputs": [],
   "source": [
    "hot100songs['songs_id']=song_ids"
   ]
  },
  {
   "cell_type": "code",
   "execution_count": 55,
   "id": "1d259f8c",
   "metadata": {},
   "outputs": [
    {
     "data": {
      "text/html": [
       "<div>\n",
       "<style scoped>\n",
       "    .dataframe tbody tr th:only-of-type {\n",
       "        vertical-align: middle;\n",
       "    }\n",
       "\n",
       "    .dataframe tbody tr th {\n",
       "        vertical-align: top;\n",
       "    }\n",
       "\n",
       "    .dataframe thead th {\n",
       "        text-align: right;\n",
       "    }\n",
       "</style>\n",
       "<table border=\"1\" class=\"dataframe\">\n",
       "  <thead>\n",
       "    <tr style=\"text-align: right;\">\n",
       "      <th></th>\n",
       "      <th>artist_name</th>\n",
       "      <th>song_title</th>\n",
       "      <th>songs_id</th>\n",
       "    </tr>\n",
       "  </thead>\n",
       "  <tbody>\n",
       "    <tr>\n",
       "      <th>0</th>\n",
       "      <td>Harry Styles</td>\n",
       "      <td>As It Was</td>\n",
       "      <td>4LRPiXqCikLlN15c3yImP7</td>\n",
       "    </tr>\n",
       "    <tr>\n",
       "      <th>1</th>\n",
       "      <td>Jack Harlow</td>\n",
       "      <td>First Class</td>\n",
       "      <td>1rDQ4oMwGJI7B4tovsBOxc</td>\n",
       "    </tr>\n",
       "    <tr>\n",
       "      <th>2</th>\n",
       "      <td>Future Featuring Drake &amp; Tems</td>\n",
       "      <td>Wait For U</td>\n",
       "      <td>NaN</td>\n",
       "    </tr>\n",
       "    <tr>\n",
       "      <th>3</th>\n",
       "      <td>Lizzo</td>\n",
       "      <td>About Damn Time</td>\n",
       "      <td>1PckUlxKqWQs3RlWXVBLw3</td>\n",
       "    </tr>\n",
       "    <tr>\n",
       "      <th>4</th>\n",
       "      <td>Glass Animals</td>\n",
       "      <td>Heat Waves</td>\n",
       "      <td>3USxtqRwSYz57Ewm6wWRMp</td>\n",
       "    </tr>\n",
       "  </tbody>\n",
       "</table>\n",
       "</div>"
      ],
      "text/plain": [
       "                     artist_name       song_title                songs_id\n",
       "0                   Harry Styles        As It Was  4LRPiXqCikLlN15c3yImP7\n",
       "1                    Jack Harlow      First Class  1rDQ4oMwGJI7B4tovsBOxc\n",
       "2  Future Featuring Drake & Tems       Wait For U                     NaN\n",
       "3                          Lizzo  About Damn Time  1PckUlxKqWQs3RlWXVBLw3\n",
       "4                  Glass Animals       Heat Waves  3USxtqRwSYz57Ewm6wWRMp"
      ]
     },
     "execution_count": 55,
     "metadata": {},
     "output_type": "execute_result"
    }
   ],
   "source": [
    "hot100songs.head()"
   ]
  },
  {
   "cell_type": "code",
   "execution_count": 70,
   "id": "27c898e9",
   "metadata": {},
   "outputs": [],
   "source": [
    "hot100songs_clean=hot100songs.dropna()"
   ]
  },
  {
   "cell_type": "code",
   "execution_count": 71,
   "id": "f879ac1d",
   "metadata": {},
   "outputs": [
    {
     "data": {
      "text/html": [
       "<div>\n",
       "<style scoped>\n",
       "    .dataframe tbody tr th:only-of-type {\n",
       "        vertical-align: middle;\n",
       "    }\n",
       "\n",
       "    .dataframe tbody tr th {\n",
       "        vertical-align: top;\n",
       "    }\n",
       "\n",
       "    .dataframe thead th {\n",
       "        text-align: right;\n",
       "    }\n",
       "</style>\n",
       "<table border=\"1\" class=\"dataframe\">\n",
       "  <thead>\n",
       "    <tr style=\"text-align: right;\">\n",
       "      <th></th>\n",
       "      <th>artist_name</th>\n",
       "      <th>song_title</th>\n",
       "      <th>songs_id</th>\n",
       "    </tr>\n",
       "  </thead>\n",
       "  <tbody>\n",
       "    <tr>\n",
       "      <th>0</th>\n",
       "      <td>Harry Styles</td>\n",
       "      <td>As It Was</td>\n",
       "      <td>4LRPiXqCikLlN15c3yImP7</td>\n",
       "    </tr>\n",
       "    <tr>\n",
       "      <th>1</th>\n",
       "      <td>Jack Harlow</td>\n",
       "      <td>First Class</td>\n",
       "      <td>1rDQ4oMwGJI7B4tovsBOxc</td>\n",
       "    </tr>\n",
       "    <tr>\n",
       "      <th>2</th>\n",
       "      <td>Lizzo</td>\n",
       "      <td>About Damn Time</td>\n",
       "      <td>1PckUlxKqWQs3RlWXVBLw3</td>\n",
       "    </tr>\n",
       "    <tr>\n",
       "      <th>3</th>\n",
       "      <td>Glass Animals</td>\n",
       "      <td>Heat Waves</td>\n",
       "      <td>3USxtqRwSYz57Ewm6wWRMp</td>\n",
       "    </tr>\n",
       "    <tr>\n",
       "      <th>4</th>\n",
       "      <td>Latto</td>\n",
       "      <td>Big Energy</td>\n",
       "      <td>6Zu3aw7FfjAF9WA0fA81Oq</td>\n",
       "    </tr>\n",
       "    <tr>\n",
       "      <th>...</th>\n",
       "      <td>...</td>\n",
       "      <td>...</td>\n",
       "      <td>...</td>\n",
       "    </tr>\n",
       "    <tr>\n",
       "      <th>67</th>\n",
       "      <td>Ella Mai</td>\n",
       "      <td>DFMU</td>\n",
       "      <td>1bdm32mVmoGcek5bVKxQKd</td>\n",
       "    </tr>\n",
       "    <tr>\n",
       "      <th>68</th>\n",
       "      <td>Bad Bunny &amp; Buscabulla</td>\n",
       "      <td>Andrea</td>\n",
       "      <td>44XjoNvtwevktFKjvVe1vH</td>\n",
       "    </tr>\n",
       "    <tr>\n",
       "      <th>69</th>\n",
       "      <td>Future</td>\n",
       "      <td>Love You Better</td>\n",
       "      <td>4XJRpBOG0bU3Nxnvam3FnC</td>\n",
       "    </tr>\n",
       "    <tr>\n",
       "      <th>70</th>\n",
       "      <td>NEW</td>\n",
       "      <td>Wild Hearts</td>\n",
       "      <td>0V4pyMCQ26KcrZoeZqoDtj</td>\n",
       "    </tr>\n",
       "    <tr>\n",
       "      <th>71</th>\n",
       "      <td>NEW</td>\n",
       "      <td>Last Night Lonely</td>\n",
       "      <td>7eg3WCVdauMpnUbfaZYfvQ</td>\n",
       "    </tr>\n",
       "  </tbody>\n",
       "</table>\n",
       "<p>72 rows × 3 columns</p>\n",
       "</div>"
      ],
      "text/plain": [
       "               artist_name         song_title                songs_id\n",
       "0             Harry Styles          As It Was  4LRPiXqCikLlN15c3yImP7\n",
       "1              Jack Harlow        First Class  1rDQ4oMwGJI7B4tovsBOxc\n",
       "2                    Lizzo    About Damn Time  1PckUlxKqWQs3RlWXVBLw3\n",
       "3            Glass Animals         Heat Waves  3USxtqRwSYz57Ewm6wWRMp\n",
       "4                    Latto         Big Energy  6Zu3aw7FfjAF9WA0fA81Oq\n",
       "..                     ...                ...                     ...\n",
       "67                Ella Mai               DFMU  1bdm32mVmoGcek5bVKxQKd\n",
       "68  Bad Bunny & Buscabulla             Andrea  44XjoNvtwevktFKjvVe1vH\n",
       "69                  Future    Love You Better  4XJRpBOG0bU3Nxnvam3FnC\n",
       "70                     NEW        Wild Hearts  0V4pyMCQ26KcrZoeZqoDtj\n",
       "71                     NEW  Last Night Lonely  7eg3WCVdauMpnUbfaZYfvQ\n",
       "\n",
       "[72 rows x 3 columns]"
      ]
     },
     "execution_count": 71,
     "metadata": {},
     "output_type": "execute_result"
    }
   ],
   "source": [
    "hot100songs_clean.reset_index(drop=True)"
   ]
  },
  {
   "cell_type": "markdown",
   "id": "186ed6bb",
   "metadata": {},
   "source": [
    "continue later with the not so hot list "
   ]
  },
  {
   "cell_type": "markdown",
   "id": "da915b32",
   "metadata": {},
   "source": [
    "get out feature function : "
   ]
  },
  {
   "cell_type": "code",
   "execution_count": null,
   "id": "7cda082c",
   "metadata": {},
   "outputs": [],
   "source": [
    "def get_features(df,stepsize=20):\n",
    "    #featuredic={}\n",
    "    songs_df = pd.DataFrame()\n",
    "    for number in range(0,len(df),stepsize):\n",
    "        print(\"Getting the chunk: {}%\".format((number/stepsize)))\n",
    "        for song_id in df.songs_id[number:number+stepsize]:# [0:20],[20:40]\n",
    "        \n",
    "\n",
    "            #print(pd.DataFrame(sp.audio_features(song_id)[0], ignore_index = True)) #audio-features accept list of ID or one song.\n",
    "            featuredic=sp.audio_features(song_id)[0]\n",
    "            songs_features = { key : [featuredic[key]] for key in list(featuredic.keys()) }\n",
    "            \n",
    "            songs_df = pd.concat([pd.DataFrame(songs_features), songs_df])\n",
    "            \n",
    "        print(\"Sleeping for 10 seconds\")\n",
    "        sleep(10)\n",
    "    return songs_df           \n"
   ]
  },
  {
   "cell_type": "code",
   "execution_count": 144,
   "id": "9178aeff",
   "metadata": {},
   "outputs": [
    {
     "name": "stdout",
     "output_type": "stream",
     "text": [
      "Getting the chunk: 0.0%\n",
      "Sleeping for 10 seconds\n",
      "Getting the chunk: 1.0%\n",
      "Sleeping for 10 seconds\n",
      "Getting the chunk: 2.0%\n",
      "Sleeping for 10 seconds\n",
      "Getting the chunk: 3.0%\n",
      "Sleeping for 10 seconds\n"
     ]
    }
   ],
   "source": [
    "songs_df1=get_features(hot100songs_clean)\n"
   ]
  },
  {
   "cell_type": "code",
   "execution_count": 147,
   "id": "e8b432cb",
   "metadata": {},
   "outputs": [],
   "source": [
    "songs_df1.reset_index(drop=True, inplace=True)"
   ]
  },
  {
   "cell_type": "code",
   "execution_count": 149,
   "id": "cc23d9b0",
   "metadata": {},
   "outputs": [],
   "source": [
    "#songs_df1"
   ]
  },
  {
   "cell_type": "code",
   "execution_count": 151,
   "id": "43b87a92",
   "metadata": {},
   "outputs": [
    {
     "data": {
      "text/html": [
       "<div>\n",
       "<style scoped>\n",
       "    .dataframe tbody tr th:only-of-type {\n",
       "        vertical-align: middle;\n",
       "    }\n",
       "\n",
       "    .dataframe tbody tr th {\n",
       "        vertical-align: top;\n",
       "    }\n",
       "\n",
       "    .dataframe thead th {\n",
       "        text-align: right;\n",
       "    }\n",
       "</style>\n",
       "<table border=\"1\" class=\"dataframe\">\n",
       "  <thead>\n",
       "    <tr style=\"text-align: right;\">\n",
       "      <th></th>\n",
       "      <th>artist_name</th>\n",
       "      <th>song_title</th>\n",
       "      <th>songs_id</th>\n",
       "      <th>danceability</th>\n",
       "      <th>energy</th>\n",
       "      <th>key</th>\n",
       "      <th>loudness</th>\n",
       "      <th>mode</th>\n",
       "      <th>speechiness</th>\n",
       "      <th>acousticness</th>\n",
       "      <th>...</th>\n",
       "      <th>liveness</th>\n",
       "      <th>valence</th>\n",
       "      <th>tempo</th>\n",
       "      <th>type</th>\n",
       "      <th>id</th>\n",
       "      <th>uri</th>\n",
       "      <th>track_href</th>\n",
       "      <th>analysis_url</th>\n",
       "      <th>duration_ms</th>\n",
       "      <th>time_signature</th>\n",
       "    </tr>\n",
       "  </thead>\n",
       "  <tbody>\n",
       "    <tr>\n",
       "      <th>0</th>\n",
       "      <td>Harry Styles</td>\n",
       "      <td>As It Was</td>\n",
       "      <td>4LRPiXqCikLlN15c3yImP7</td>\n",
       "      <td>0.449</td>\n",
       "      <td>0.023</td>\n",
       "      <td>8.0</td>\n",
       "      <td>-24.423</td>\n",
       "      <td>1.0</td>\n",
       "      <td>0.0336</td>\n",
       "      <td>0.90300</td>\n",
       "      <td>...</td>\n",
       "      <td>0.1160</td>\n",
       "      <td>0.277</td>\n",
       "      <td>90.071</td>\n",
       "      <td>audio_features</td>\n",
       "      <td>7eg3WCVdauMpnUbfaZYfvQ</td>\n",
       "      <td>spotify:track:7eg3WCVdauMpnUbfaZYfvQ</td>\n",
       "      <td>https://api.spotify.com/v1/tracks/7eg3WCVdauMp...</td>\n",
       "      <td>https://api.spotify.com/v1/audio-analysis/7eg3...</td>\n",
       "      <td>171667.0</td>\n",
       "      <td>4.0</td>\n",
       "    </tr>\n",
       "    <tr>\n",
       "      <th>1</th>\n",
       "      <td>Jack Harlow</td>\n",
       "      <td>First Class</td>\n",
       "      <td>1rDQ4oMwGJI7B4tovsBOxc</td>\n",
       "      <td>0.215</td>\n",
       "      <td>0.710</td>\n",
       "      <td>9.0</td>\n",
       "      <td>-7.285</td>\n",
       "      <td>1.0</td>\n",
       "      <td>0.0459</td>\n",
       "      <td>0.01430</td>\n",
       "      <td>...</td>\n",
       "      <td>0.3280</td>\n",
       "      <td>0.415</td>\n",
       "      <td>160.313</td>\n",
       "      <td>audio_features</td>\n",
       "      <td>0V4pyMCQ26KcrZoeZqoDtj</td>\n",
       "      <td>spotify:track:0V4pyMCQ26KcrZoeZqoDtj</td>\n",
       "      <td>https://api.spotify.com/v1/tracks/0V4pyMCQ26Kc...</td>\n",
       "      <td>https://api.spotify.com/v1/audio-analysis/0V4p...</td>\n",
       "      <td>337709.0</td>\n",
       "      <td>4.0</td>\n",
       "    </tr>\n",
       "    <tr>\n",
       "      <th>3</th>\n",
       "      <td>Lizzo</td>\n",
       "      <td>About Damn Time</td>\n",
       "      <td>1PckUlxKqWQs3RlWXVBLw3</td>\n",
       "      <td>0.797</td>\n",
       "      <td>0.616</td>\n",
       "      <td>1.0</td>\n",
       "      <td>-10.229</td>\n",
       "      <td>0.0</td>\n",
       "      <td>0.3750</td>\n",
       "      <td>0.76200</td>\n",
       "      <td>...</td>\n",
       "      <td>0.0979</td>\n",
       "      <td>0.451</td>\n",
       "      <td>103.071</td>\n",
       "      <td>audio_features</td>\n",
       "      <td>44XjoNvtwevktFKjvVe1vH</td>\n",
       "      <td>spotify:track:44XjoNvtwevktFKjvVe1vH</td>\n",
       "      <td>https://api.spotify.com/v1/tracks/44XjoNvtwevk...</td>\n",
       "      <td>https://api.spotify.com/v1/audio-analysis/44Xj...</td>\n",
       "      <td>339612.0</td>\n",
       "      <td>4.0</td>\n",
       "    </tr>\n",
       "    <tr>\n",
       "      <th>4</th>\n",
       "      <td>Glass Animals</td>\n",
       "      <td>Heat Waves</td>\n",
       "      <td>3USxtqRwSYz57Ewm6wWRMp</td>\n",
       "      <td>0.708</td>\n",
       "      <td>0.673</td>\n",
       "      <td>6.0</td>\n",
       "      <td>-4.163</td>\n",
       "      <td>1.0</td>\n",
       "      <td>0.0585</td>\n",
       "      <td>0.49900</td>\n",
       "      <td>...</td>\n",
       "      <td>0.1030</td>\n",
       "      <td>0.311</td>\n",
       "      <td>136.969</td>\n",
       "      <td>audio_features</td>\n",
       "      <td>1bdm32mVmoGcek5bVKxQKd</td>\n",
       "      <td>spotify:track:1bdm32mVmoGcek5bVKxQKd</td>\n",
       "      <td>https://api.spotify.com/v1/tracks/1bdm32mVmoGc...</td>\n",
       "      <td>https://api.spotify.com/v1/audio-analysis/1bdm...</td>\n",
       "      <td>197520.0</td>\n",
       "      <td>4.0</td>\n",
       "    </tr>\n",
       "    <tr>\n",
       "      <th>5</th>\n",
       "      <td>Latto</td>\n",
       "      <td>Big Energy</td>\n",
       "      <td>6Zu3aw7FfjAF9WA0fA81Oq</td>\n",
       "      <td>0.833</td>\n",
       "      <td>0.652</td>\n",
       "      <td>11.0</td>\n",
       "      <td>-6.942</td>\n",
       "      <td>1.0</td>\n",
       "      <td>0.0762</td>\n",
       "      <td>0.00161</td>\n",
       "      <td>...</td>\n",
       "      <td>0.1060</td>\n",
       "      <td>0.405</td>\n",
       "      <td>158.022</td>\n",
       "      <td>audio_features</td>\n",
       "      <td>0LnS7aOdOdI1dNKZqdOLz4</td>\n",
       "      <td>spotify:track:0LnS7aOdOdI1dNKZqdOLz4</td>\n",
       "      <td>https://api.spotify.com/v1/tracks/0LnS7aOdOdI1...</td>\n",
       "      <td>https://api.spotify.com/v1/audio-analysis/0LnS...</td>\n",
       "      <td>135053.0</td>\n",
       "      <td>4.0</td>\n",
       "    </tr>\n",
       "  </tbody>\n",
       "</table>\n",
       "<p>5 rows × 21 columns</p>\n",
       "</div>"
      ],
      "text/plain": [
       "     artist_name       song_title                songs_id  danceability  \\\n",
       "0   Harry Styles        As It Was  4LRPiXqCikLlN15c3yImP7         0.449   \n",
       "1    Jack Harlow      First Class  1rDQ4oMwGJI7B4tovsBOxc         0.215   \n",
       "3          Lizzo  About Damn Time  1PckUlxKqWQs3RlWXVBLw3         0.797   \n",
       "4  Glass Animals       Heat Waves  3USxtqRwSYz57Ewm6wWRMp         0.708   \n",
       "5          Latto       Big Energy  6Zu3aw7FfjAF9WA0fA81Oq         0.833   \n",
       "\n",
       "   energy   key  loudness  mode  speechiness  acousticness  ...  liveness  \\\n",
       "0   0.023   8.0   -24.423   1.0       0.0336       0.90300  ...    0.1160   \n",
       "1   0.710   9.0    -7.285   1.0       0.0459       0.01430  ...    0.3280   \n",
       "3   0.616   1.0   -10.229   0.0       0.3750       0.76200  ...    0.0979   \n",
       "4   0.673   6.0    -4.163   1.0       0.0585       0.49900  ...    0.1030   \n",
       "5   0.652  11.0    -6.942   1.0       0.0762       0.00161  ...    0.1060   \n",
       "\n",
       "   valence    tempo            type                      id  \\\n",
       "0    0.277   90.071  audio_features  7eg3WCVdauMpnUbfaZYfvQ   \n",
       "1    0.415  160.313  audio_features  0V4pyMCQ26KcrZoeZqoDtj   \n",
       "3    0.451  103.071  audio_features  44XjoNvtwevktFKjvVe1vH   \n",
       "4    0.311  136.969  audio_features  1bdm32mVmoGcek5bVKxQKd   \n",
       "5    0.405  158.022  audio_features  0LnS7aOdOdI1dNKZqdOLz4   \n",
       "\n",
       "                                    uri  \\\n",
       "0  spotify:track:7eg3WCVdauMpnUbfaZYfvQ   \n",
       "1  spotify:track:0V4pyMCQ26KcrZoeZqoDtj   \n",
       "3  spotify:track:44XjoNvtwevktFKjvVe1vH   \n",
       "4  spotify:track:1bdm32mVmoGcek5bVKxQKd   \n",
       "5  spotify:track:0LnS7aOdOdI1dNKZqdOLz4   \n",
       "\n",
       "                                          track_href  \\\n",
       "0  https://api.spotify.com/v1/tracks/7eg3WCVdauMp...   \n",
       "1  https://api.spotify.com/v1/tracks/0V4pyMCQ26Kc...   \n",
       "3  https://api.spotify.com/v1/tracks/44XjoNvtwevk...   \n",
       "4  https://api.spotify.com/v1/tracks/1bdm32mVmoGc...   \n",
       "5  https://api.spotify.com/v1/tracks/0LnS7aOdOdI1...   \n",
       "\n",
       "                                        analysis_url duration_ms  \\\n",
       "0  https://api.spotify.com/v1/audio-analysis/7eg3...    171667.0   \n",
       "1  https://api.spotify.com/v1/audio-analysis/0V4p...    337709.0   \n",
       "3  https://api.spotify.com/v1/audio-analysis/44Xj...    339612.0   \n",
       "4  https://api.spotify.com/v1/audio-analysis/1bdm...    197520.0   \n",
       "5  https://api.spotify.com/v1/audio-analysis/0LnS...    135053.0   \n",
       "\n",
       "   time_signature  \n",
       "0             4.0  \n",
       "1             4.0  \n",
       "3             4.0  \n",
       "4             4.0  \n",
       "5             4.0  \n",
       "\n",
       "[5 rows x 21 columns]"
      ]
     },
     "execution_count": 151,
     "metadata": {},
     "output_type": "execute_result"
    }
   ],
   "source": [
    "hot100songsfeatures=pd.concat([hot100songs_clean, songs_df1],axis=1)\n",
    "hot100songsfeatures.head()"
   ]
  },
  {
   "cell_type": "code",
   "execution_count": null,
   "id": "627bbeb3",
   "metadata": {},
   "outputs": [],
   "source": []
  }
 ],
 "metadata": {
  "kernelspec": {
   "display_name": "Python 3 (ipykernel)",
   "language": "python",
   "name": "python3"
  },
  "language_info": {
   "codemirror_mode": {
    "name": "ipython",
    "version": 3
   },
   "file_extension": ".py",
   "mimetype": "text/x-python",
   "name": "python",
   "nbconvert_exporter": "python",
   "pygments_lexer": "ipython3",
   "version": "3.9.7"
  },
  "toc": {
   "base_numbering": 1,
   "nav_menu": {},
   "number_sections": true,
   "sideBar": true,
   "skip_h1_title": false,
   "title_cell": "Table of Contents",
   "title_sidebar": "Contents",
   "toc_cell": false,
   "toc_position": {},
   "toc_section_display": true,
   "toc_window_display": false
  }
 },
 "nbformat": 4,
 "nbformat_minor": 5
}
